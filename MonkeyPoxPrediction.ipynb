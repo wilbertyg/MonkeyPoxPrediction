{
  "cells": [
    {
      "cell_type": "markdown",
      "metadata": {
        "id": "Jhgbazp-RV6M"
      },
      "source": [
        "#Load Dataset"
      ]
    },
    {
      "cell_type": "code",
      "execution_count": 46,
      "metadata": {
        "id": "jsk6qDq0PqY1"
      },
      "outputs": [],
      "source": [
        "# from google.colab import userdata\n",
        "# import os\n",
        "# os.environ[\"KAGGLE_KEY\"] = userdata.get('KAGGLE_KEY')\n",
        "# os.environ[\"KAGGLE_USERNAME\"] = userdata.get('KAGGLE_USERNAME')\n",
        "\n",
        "# !kaggle datasets download -d muhammad4hmed/monkeypox-patients-dataset\n",
        "# #if alr exist\n",
        "# !rm \"DATA.csv\"\n",
        "\n",
        "# !unzip \"monkeypox-patients-dataset.zip\"\n",
        "# !rm \"monkeypox-patients-dataset.zip\""
      ]
    },
    {
      "cell_type": "code",
      "execution_count": 47,
      "metadata": {
        "id": "f5gDQ3xWRMUE"
      },
      "outputs": [],
      "source": [
        "import pandas as pd\n",
        "import numpy as np\n",
        "import matplotlib.pyplot as plt\n",
        "import pickle as pkl\n",
        "import seaborn as sns\n",
        "import matplotlib.pyplot as plt\n",
        "from sklearn.preprocessing import LabelEncoder, StandardScaler\n",
        "from sklearn.model_selection import train_test_split\n",
        "\n",
        "from xgboost import XGBClassifier\n",
        "from sklearn.ensemble import RandomForestClassifier\n",
        "from sklearn.tree import DecisionTreeClassifier\n",
        "from sklearn.svm import SVC\n",
        "from sklearn.naive_bayes import GaussianNB\n",
        "from sklearn.neighbors import KNeighborsClassifier\n",
        "from sklearn.linear_model import LogisticRegression\n",
        "\n",
        "from sklearn.metrics import confusion_matrix, ConfusionMatrixDisplay, accuracy_score, precision_score, recall_score, f1_score, classification_report, roc_curve"
      ]
    },
    {
      "cell_type": "code",
      "execution_count": 48,
      "metadata": {
        "colab": {
          "base_uri": "https://localhost:8080/",
          "height": 582
        },
        "id": "PdiBhj5LENOq",
        "outputId": "03064d77-99ce-4e20-9271-326bea55ef9c"
      },
      "outputs": [
        {
          "data": {
            "text/html": [
              "<div>\n",
              "<style scoped>\n",
              "    .dataframe tbody tr th:only-of-type {\n",
              "        vertical-align: middle;\n",
              "    }\n",
              "\n",
              "    .dataframe tbody tr th {\n",
              "        vertical-align: top;\n",
              "    }\n",
              "\n",
              "    .dataframe thead th {\n",
              "        text-align: right;\n",
              "    }\n",
              "</style>\n",
              "<table border=\"1\" class=\"dataframe\">\n",
              "  <thead>\n",
              "    <tr style=\"text-align: right;\">\n",
              "      <th></th>\n",
              "      <th>Patient_ID</th>\n",
              "      <th>Systemic Illness</th>\n",
              "      <th>Rectal Pain</th>\n",
              "      <th>Sore Throat</th>\n",
              "      <th>Penile Oedema</th>\n",
              "      <th>Oral Lesions</th>\n",
              "      <th>Solitary Lesion</th>\n",
              "      <th>Swollen Tonsils</th>\n",
              "      <th>HIV Infection</th>\n",
              "      <th>Sexually Transmitted Infection</th>\n",
              "      <th>MonkeyPox</th>\n",
              "    </tr>\n",
              "  </thead>\n",
              "  <tbody>\n",
              "    <tr>\n",
              "      <th>0</th>\n",
              "      <td>P0</td>\n",
              "      <td>None</td>\n",
              "      <td>False</td>\n",
              "      <td>True</td>\n",
              "      <td>True</td>\n",
              "      <td>True</td>\n",
              "      <td>False</td>\n",
              "      <td>True</td>\n",
              "      <td>False</td>\n",
              "      <td>False</td>\n",
              "      <td>Negative</td>\n",
              "    </tr>\n",
              "    <tr>\n",
              "      <th>1</th>\n",
              "      <td>P1</td>\n",
              "      <td>Fever</td>\n",
              "      <td>True</td>\n",
              "      <td>False</td>\n",
              "      <td>True</td>\n",
              "      <td>True</td>\n",
              "      <td>False</td>\n",
              "      <td>False</td>\n",
              "      <td>True</td>\n",
              "      <td>False</td>\n",
              "      <td>Positive</td>\n",
              "    </tr>\n",
              "    <tr>\n",
              "      <th>2</th>\n",
              "      <td>P2</td>\n",
              "      <td>Fever</td>\n",
              "      <td>False</td>\n",
              "      <td>True</td>\n",
              "      <td>True</td>\n",
              "      <td>False</td>\n",
              "      <td>False</td>\n",
              "      <td>False</td>\n",
              "      <td>True</td>\n",
              "      <td>False</td>\n",
              "      <td>Positive</td>\n",
              "    </tr>\n",
              "    <tr>\n",
              "      <th>3</th>\n",
              "      <td>P3</td>\n",
              "      <td>None</td>\n",
              "      <td>True</td>\n",
              "      <td>False</td>\n",
              "      <td>False</td>\n",
              "      <td>False</td>\n",
              "      <td>True</td>\n",
              "      <td>True</td>\n",
              "      <td>True</td>\n",
              "      <td>False</td>\n",
              "      <td>Positive</td>\n",
              "    </tr>\n",
              "    <tr>\n",
              "      <th>4</th>\n",
              "      <td>P4</td>\n",
              "      <td>Swollen Lymph Nodes</td>\n",
              "      <td>True</td>\n",
              "      <td>True</td>\n",
              "      <td>True</td>\n",
              "      <td>False</td>\n",
              "      <td>False</td>\n",
              "      <td>True</td>\n",
              "      <td>True</td>\n",
              "      <td>False</td>\n",
              "      <td>Positive</td>\n",
              "    </tr>\n",
              "    <tr>\n",
              "      <th>...</th>\n",
              "      <td>...</td>\n",
              "      <td>...</td>\n",
              "      <td>...</td>\n",
              "      <td>...</td>\n",
              "      <td>...</td>\n",
              "      <td>...</td>\n",
              "      <td>...</td>\n",
              "      <td>...</td>\n",
              "      <td>...</td>\n",
              "      <td>...</td>\n",
              "      <td>...</td>\n",
              "    </tr>\n",
              "    <tr>\n",
              "      <th>24995</th>\n",
              "      <td>P24995</td>\n",
              "      <td>None</td>\n",
              "      <td>True</td>\n",
              "      <td>True</td>\n",
              "      <td>False</td>\n",
              "      <td>True</td>\n",
              "      <td>True</td>\n",
              "      <td>False</td>\n",
              "      <td>False</td>\n",
              "      <td>True</td>\n",
              "      <td>Positive</td>\n",
              "    </tr>\n",
              "    <tr>\n",
              "      <th>24996</th>\n",
              "      <td>P24996</td>\n",
              "      <td>Fever</td>\n",
              "      <td>False</td>\n",
              "      <td>True</td>\n",
              "      <td>True</td>\n",
              "      <td>False</td>\n",
              "      <td>True</td>\n",
              "      <td>True</td>\n",
              "      <td>True</td>\n",
              "      <td>True</td>\n",
              "      <td>Positive</td>\n",
              "    </tr>\n",
              "    <tr>\n",
              "      <th>24997</th>\n",
              "      <td>P24997</td>\n",
              "      <td>None</td>\n",
              "      <td>True</td>\n",
              "      <td>True</td>\n",
              "      <td>False</td>\n",
              "      <td>False</td>\n",
              "      <td>True</td>\n",
              "      <td>True</td>\n",
              "      <td>False</td>\n",
              "      <td>False</td>\n",
              "      <td>Positive</td>\n",
              "    </tr>\n",
              "    <tr>\n",
              "      <th>24998</th>\n",
              "      <td>P24998</td>\n",
              "      <td>Swollen Lymph Nodes</td>\n",
              "      <td>False</td>\n",
              "      <td>True</td>\n",
              "      <td>False</td>\n",
              "      <td>True</td>\n",
              "      <td>True</td>\n",
              "      <td>True</td>\n",
              "      <td>False</td>\n",
              "      <td>False</td>\n",
              "      <td>Negative</td>\n",
              "    </tr>\n",
              "    <tr>\n",
              "      <th>24999</th>\n",
              "      <td>P24999</td>\n",
              "      <td>Swollen Lymph Nodes</td>\n",
              "      <td>False</td>\n",
              "      <td>False</td>\n",
              "      <td>True</td>\n",
              "      <td>False</td>\n",
              "      <td>False</td>\n",
              "      <td>True</td>\n",
              "      <td>True</td>\n",
              "      <td>False</td>\n",
              "      <td>Positive</td>\n",
              "    </tr>\n",
              "  </tbody>\n",
              "</table>\n",
              "<p>25000 rows × 11 columns</p>\n",
              "</div>"
            ],
            "text/plain": [
              "      Patient_ID     Systemic Illness  Rectal Pain  Sore Throat  \\\n",
              "0             P0                 None        False         True   \n",
              "1             P1                Fever         True        False   \n",
              "2             P2                Fever        False         True   \n",
              "3             P3                 None         True        False   \n",
              "4             P4  Swollen Lymph Nodes         True         True   \n",
              "...          ...                  ...          ...          ...   \n",
              "24995     P24995                 None         True         True   \n",
              "24996     P24996                Fever        False         True   \n",
              "24997     P24997                 None         True         True   \n",
              "24998     P24998  Swollen Lymph Nodes        False         True   \n",
              "24999     P24999  Swollen Lymph Nodes        False        False   \n",
              "\n",
              "       Penile Oedema  Oral Lesions  Solitary Lesion  Swollen Tonsils  \\\n",
              "0               True          True            False             True   \n",
              "1               True          True            False            False   \n",
              "2               True         False            False            False   \n",
              "3              False         False             True             True   \n",
              "4               True         False            False             True   \n",
              "...              ...           ...              ...              ...   \n",
              "24995          False          True             True            False   \n",
              "24996           True         False             True             True   \n",
              "24997          False         False             True             True   \n",
              "24998          False          True             True             True   \n",
              "24999           True         False            False             True   \n",
              "\n",
              "       HIV Infection  Sexually Transmitted Infection MonkeyPox  \n",
              "0              False                           False  Negative  \n",
              "1               True                           False  Positive  \n",
              "2               True                           False  Positive  \n",
              "3               True                           False  Positive  \n",
              "4               True                           False  Positive  \n",
              "...              ...                             ...       ...  \n",
              "24995          False                            True  Positive  \n",
              "24996           True                            True  Positive  \n",
              "24997          False                           False  Positive  \n",
              "24998          False                           False  Negative  \n",
              "24999           True                           False  Positive  \n",
              "\n",
              "[25000 rows x 11 columns]"
            ]
          },
          "execution_count": 48,
          "metadata": {},
          "output_type": "execute_result"
        }
      ],
      "source": [
        "df = pd.read_csv(\"DATA.csv\")\n",
        "df"
      ]
    },
    {
      "cell_type": "markdown",
      "metadata": {
        "id": "EqA_UhHeRZmI"
      },
      "source": [
        "#EDA #1"
      ]
    },
    {
      "cell_type": "code",
      "execution_count": 49,
      "metadata": {
        "colab": {
          "base_uri": "https://localhost:8080/"
        },
        "id": "szC7X3VJS_uM",
        "outputId": "2901f9b8-d9b6-44e1-c156-3317f1b15e3e"
      },
      "outputs": [
        {
          "name": "stdout",
          "output_type": "stream",
          "text": [
            "<class 'pandas.core.frame.DataFrame'>\n",
            "RangeIndex: 25000 entries, 0 to 24999\n",
            "Data columns (total 11 columns):\n",
            " #   Column                          Non-Null Count  Dtype \n",
            "---  ------                          --------------  ----- \n",
            " 0   Patient_ID                      25000 non-null  object\n",
            " 1   Systemic Illness                25000 non-null  object\n",
            " 2   Rectal Pain                     25000 non-null  bool  \n",
            " 3   Sore Throat                     25000 non-null  bool  \n",
            " 4   Penile Oedema                   25000 non-null  bool  \n",
            " 5   Oral Lesions                    25000 non-null  bool  \n",
            " 6   Solitary Lesion                 25000 non-null  bool  \n",
            " 7   Swollen Tonsils                 25000 non-null  bool  \n",
            " 8   HIV Infection                   25000 non-null  bool  \n",
            " 9   Sexually Transmitted Infection  25000 non-null  bool  \n",
            " 10  MonkeyPox                       25000 non-null  object\n",
            "dtypes: bool(8), object(3)\n",
            "memory usage: 781.4+ KB\n"
          ]
        }
      ],
      "source": [
        "df.info()"
      ]
    },
    {
      "cell_type": "code",
      "execution_count": 50,
      "metadata": {
        "colab": {
          "base_uri": "https://localhost:8080/",
          "height": 229
        },
        "id": "r-xB5KHnTDap",
        "outputId": "b2cb0917-2812-419c-f93c-d71f9b442af7"
      },
      "outputs": [
        {
          "data": {
            "text/html": [
              "<div>\n",
              "<style scoped>\n",
              "    .dataframe tbody tr th:only-of-type {\n",
              "        vertical-align: middle;\n",
              "    }\n",
              "\n",
              "    .dataframe tbody tr th {\n",
              "        vertical-align: top;\n",
              "    }\n",
              "\n",
              "    .dataframe thead th {\n",
              "        text-align: right;\n",
              "    }\n",
              "</style>\n",
              "<table border=\"1\" class=\"dataframe\">\n",
              "  <thead>\n",
              "    <tr style=\"text-align: right;\">\n",
              "      <th></th>\n",
              "      <th>Patient_ID</th>\n",
              "      <th>Systemic Illness</th>\n",
              "      <th>Rectal Pain</th>\n",
              "      <th>Sore Throat</th>\n",
              "      <th>Penile Oedema</th>\n",
              "      <th>Oral Lesions</th>\n",
              "      <th>Solitary Lesion</th>\n",
              "      <th>Swollen Tonsils</th>\n",
              "      <th>HIV Infection</th>\n",
              "      <th>Sexually Transmitted Infection</th>\n",
              "      <th>MonkeyPox</th>\n",
              "    </tr>\n",
              "  </thead>\n",
              "  <tbody>\n",
              "    <tr>\n",
              "      <th>count</th>\n",
              "      <td>25000</td>\n",
              "      <td>25000</td>\n",
              "      <td>25000</td>\n",
              "      <td>25000</td>\n",
              "      <td>25000</td>\n",
              "      <td>25000</td>\n",
              "      <td>25000</td>\n",
              "      <td>25000</td>\n",
              "      <td>25000</td>\n",
              "      <td>25000</td>\n",
              "      <td>25000</td>\n",
              "    </tr>\n",
              "    <tr>\n",
              "      <th>unique</th>\n",
              "      <td>25000</td>\n",
              "      <td>4</td>\n",
              "      <td>2</td>\n",
              "      <td>2</td>\n",
              "      <td>2</td>\n",
              "      <td>2</td>\n",
              "      <td>2</td>\n",
              "      <td>2</td>\n",
              "      <td>2</td>\n",
              "      <td>2</td>\n",
              "      <td>2</td>\n",
              "    </tr>\n",
              "    <tr>\n",
              "      <th>top</th>\n",
              "      <td>P0</td>\n",
              "      <td>Fever</td>\n",
              "      <td>False</td>\n",
              "      <td>True</td>\n",
              "      <td>True</td>\n",
              "      <td>False</td>\n",
              "      <td>True</td>\n",
              "      <td>True</td>\n",
              "      <td>True</td>\n",
              "      <td>False</td>\n",
              "      <td>Positive</td>\n",
              "    </tr>\n",
              "    <tr>\n",
              "      <th>freq</th>\n",
              "      <td>1</td>\n",
              "      <td>6382</td>\n",
              "      <td>12655</td>\n",
              "      <td>12554</td>\n",
              "      <td>12612</td>\n",
              "      <td>12514</td>\n",
              "      <td>12527</td>\n",
              "      <td>12533</td>\n",
              "      <td>12584</td>\n",
              "      <td>12554</td>\n",
              "      <td>15909</td>\n",
              "    </tr>\n",
              "  </tbody>\n",
              "</table>\n",
              "</div>"
            ],
            "text/plain": [
              "       Patient_ID Systemic Illness Rectal Pain Sore Throat Penile Oedema  \\\n",
              "count       25000            25000       25000       25000         25000   \n",
              "unique      25000                4           2           2             2   \n",
              "top            P0            Fever       False        True          True   \n",
              "freq            1             6382       12655       12554         12612   \n",
              "\n",
              "       Oral Lesions Solitary Lesion Swollen Tonsils HIV Infection  \\\n",
              "count         25000           25000           25000         25000   \n",
              "unique            2               2               2             2   \n",
              "top           False            True            True          True   \n",
              "freq          12514           12527           12533         12584   \n",
              "\n",
              "       Sexually Transmitted Infection MonkeyPox  \n",
              "count                           25000     25000  \n",
              "unique                              2         2  \n",
              "top                             False  Positive  \n",
              "freq                            12554     15909  "
            ]
          },
          "execution_count": 50,
          "metadata": {},
          "output_type": "execute_result"
        }
      ],
      "source": [
        "df.describe()"
      ]
    },
    {
      "cell_type": "code",
      "execution_count": 51,
      "metadata": {
        "colab": {
          "base_uri": "https://localhost:8080/"
        },
        "id": "5i0qK2-eEBzm",
        "outputId": "942f800f-25a7-43c1-8da4-b4f64ad7b643"
      },
      "outputs": [
        {
          "data": {
            "text/plain": [
              "Positive    15909\n",
              "Negative     9091\n",
              "Name: MonkeyPox, dtype: int64"
            ]
          },
          "execution_count": 51,
          "metadata": {},
          "output_type": "execute_result"
        }
      ],
      "source": [
        "df['MonkeyPox'].value_counts(dropna=False)"
      ]
    },
    {
      "cell_type": "code",
      "execution_count": 52,
      "metadata": {
        "colab": {
          "base_uri": "https://localhost:8080/"
        },
        "id": "UK2Bl4pxW5yz",
        "outputId": "f2c958e9-e460-419f-9907-858a9becae7f"
      },
      "outputs": [
        {
          "data": {
            "text/plain": [
              "Patient_ID                        0\n",
              "Systemic Illness                  0\n",
              "Rectal Pain                       0\n",
              "Sore Throat                       0\n",
              "Penile Oedema                     0\n",
              "Oral Lesions                      0\n",
              "Solitary Lesion                   0\n",
              "Swollen Tonsils                   0\n",
              "HIV Infection                     0\n",
              "Sexually Transmitted Infection    0\n",
              "MonkeyPox                         0\n",
              "dtype: int64"
            ]
          },
          "execution_count": 52,
          "metadata": {},
          "output_type": "execute_result"
        }
      ],
      "source": [
        "df.isnull().sum()"
      ]
    },
    {
      "cell_type": "markdown",
      "metadata": {
        "id": "0ziaKXDlMcwy"
      },
      "source": [
        "#Preprocess"
      ]
    },
    {
      "cell_type": "code",
      "execution_count": 53,
      "metadata": {
        "id": "nlz6WjLbX6rw"
      },
      "outputs": [],
      "source": [
        "#Handle missing values by dropping it\n",
        "# df = df.dropna()\n",
        "\n",
        "#NaN means no systemic illness (but there is still possibility for people to have the monkeypox)\n",
        "df.fillna('None', inplace=True)"
      ]
    },
    {
      "cell_type": "code",
      "execution_count": 54,
      "metadata": {
        "id": "DhIvDl8jqfw-"
      },
      "outputs": [],
      "source": [
        "# df = df.sample(15000)\n",
        "# df.reset_index(inplace=True, drop=True)\n",
        "# df"
      ]
    },
    {
      "cell_type": "code",
      "execution_count": 55,
      "metadata": {
        "colab": {
          "base_uri": "https://localhost:8080/"
        },
        "id": "2d_9sc3MX8Ea",
        "outputId": "2fa213d0-0afb-44dd-f386-cd1d186db072"
      },
      "outputs": [
        {
          "data": {
            "text/plain": [
              "Patient_ID                        0\n",
              "Systemic Illness                  0\n",
              "Rectal Pain                       0\n",
              "Sore Throat                       0\n",
              "Penile Oedema                     0\n",
              "Oral Lesions                      0\n",
              "Solitary Lesion                   0\n",
              "Swollen Tonsils                   0\n",
              "HIV Infection                     0\n",
              "Sexually Transmitted Infection    0\n",
              "MonkeyPox                         0\n",
              "dtype: int64"
            ]
          },
          "execution_count": 55,
          "metadata": {},
          "output_type": "execute_result"
        }
      ],
      "source": [
        "df.isnull().sum()"
      ]
    },
    {
      "cell_type": "code",
      "execution_count": 56,
      "metadata": {
        "colab": {
          "base_uri": "https://localhost:8080/"
        },
        "id": "UTXl_B-NX9kF",
        "outputId": "0e95a517-6e3c-48e1-9238-de940d5a4bb8"
      },
      "outputs": [
        {
          "data": {
            "text/plain": [
              "Positive    15909\n",
              "Negative     9091\n",
              "Name: MonkeyPox, dtype: int64"
            ]
          },
          "execution_count": 56,
          "metadata": {},
          "output_type": "execute_result"
        }
      ],
      "source": [
        "df['MonkeyPox'].value_counts(dropna=False)"
      ]
    },
    {
      "cell_type": "code",
      "execution_count": 57,
      "metadata": {
        "id": "Zb9MAqNuX_WT"
      },
      "outputs": [],
      "source": [
        "#drop unnecessary column\n",
        "df = df.drop(['Patient_ID'], axis = 1)"
      ]
    },
    {
      "cell_type": "code",
      "execution_count": 58,
      "metadata": {
        "colab": {
          "base_uri": "https://localhost:8080/"
        },
        "id": "cvsrBjdBYAvw",
        "outputId": "d8fca540-288a-4905-b8ac-10e3fdffdfc8"
      },
      "outputs": [
        {
          "name": "stdout",
          "output_type": "stream",
          "text": [
            "Index(['Systemic Illness', 'Rectal Pain', 'Sore Throat', 'Penile Oedema',\n",
            "       'Oral Lesions', 'Solitary Lesion', 'Swollen Tonsils', 'HIV Infection',\n",
            "       'Sexually Transmitted Infection', 'MonkeyPox'],\n",
            "      dtype='object')\n"
          ]
        }
      ],
      "source": [
        "print(df.columns)"
      ]
    },
    {
      "cell_type": "code",
      "execution_count": 59,
      "metadata": {
        "colab": {
          "base_uri": "https://localhost:8080/",
          "height": 296
        },
        "id": "VXJMVyO_YB-C",
        "outputId": "e2bb675a-4411-433f-de3e-43e92aaeef9e"
      },
      "outputs": [
        {
          "data": {
            "text/html": [
              "<div>\n",
              "<style scoped>\n",
              "    .dataframe tbody tr th:only-of-type {\n",
              "        vertical-align: middle;\n",
              "    }\n",
              "\n",
              "    .dataframe tbody tr th {\n",
              "        vertical-align: top;\n",
              "    }\n",
              "\n",
              "    .dataframe thead th {\n",
              "        text-align: right;\n",
              "    }\n",
              "</style>\n",
              "<table border=\"1\" class=\"dataframe\">\n",
              "  <thead>\n",
              "    <tr style=\"text-align: right;\">\n",
              "      <th></th>\n",
              "      <th>Systemic Illness</th>\n",
              "      <th>Rectal Pain</th>\n",
              "      <th>Sore Throat</th>\n",
              "      <th>Penile Oedema</th>\n",
              "      <th>Oral Lesions</th>\n",
              "      <th>Solitary Lesion</th>\n",
              "      <th>Swollen Tonsils</th>\n",
              "      <th>HIV Infection</th>\n",
              "      <th>Sexually Transmitted Infection</th>\n",
              "      <th>MonkeyPox</th>\n",
              "    </tr>\n",
              "  </thead>\n",
              "  <tbody>\n",
              "    <tr>\n",
              "      <th>0</th>\n",
              "      <td>None</td>\n",
              "      <td>False</td>\n",
              "      <td>True</td>\n",
              "      <td>True</td>\n",
              "      <td>True</td>\n",
              "      <td>False</td>\n",
              "      <td>True</td>\n",
              "      <td>False</td>\n",
              "      <td>False</td>\n",
              "      <td>0</td>\n",
              "    </tr>\n",
              "    <tr>\n",
              "      <th>1</th>\n",
              "      <td>Fever</td>\n",
              "      <td>True</td>\n",
              "      <td>False</td>\n",
              "      <td>True</td>\n",
              "      <td>True</td>\n",
              "      <td>False</td>\n",
              "      <td>False</td>\n",
              "      <td>True</td>\n",
              "      <td>False</td>\n",
              "      <td>1</td>\n",
              "    </tr>\n",
              "    <tr>\n",
              "      <th>2</th>\n",
              "      <td>Fever</td>\n",
              "      <td>False</td>\n",
              "      <td>True</td>\n",
              "      <td>True</td>\n",
              "      <td>False</td>\n",
              "      <td>False</td>\n",
              "      <td>False</td>\n",
              "      <td>True</td>\n",
              "      <td>False</td>\n",
              "      <td>1</td>\n",
              "    </tr>\n",
              "    <tr>\n",
              "      <th>3</th>\n",
              "      <td>None</td>\n",
              "      <td>True</td>\n",
              "      <td>False</td>\n",
              "      <td>False</td>\n",
              "      <td>False</td>\n",
              "      <td>True</td>\n",
              "      <td>True</td>\n",
              "      <td>True</td>\n",
              "      <td>False</td>\n",
              "      <td>1</td>\n",
              "    </tr>\n",
              "    <tr>\n",
              "      <th>4</th>\n",
              "      <td>Swollen Lymph Nodes</td>\n",
              "      <td>True</td>\n",
              "      <td>True</td>\n",
              "      <td>True</td>\n",
              "      <td>False</td>\n",
              "      <td>False</td>\n",
              "      <td>True</td>\n",
              "      <td>True</td>\n",
              "      <td>False</td>\n",
              "      <td>1</td>\n",
              "    </tr>\n",
              "  </tbody>\n",
              "</table>\n",
              "</div>"
            ],
            "text/plain": [
              "      Systemic Illness  Rectal Pain  Sore Throat  Penile Oedema  Oral Lesions  \\\n",
              "0                 None        False         True           True          True   \n",
              "1                Fever         True        False           True          True   \n",
              "2                Fever        False         True           True         False   \n",
              "3                 None         True        False          False         False   \n",
              "4  Swollen Lymph Nodes         True         True           True         False   \n",
              "\n",
              "   Solitary Lesion  Swollen Tonsils  HIV Infection  \\\n",
              "0            False             True          False   \n",
              "1            False            False           True   \n",
              "2            False            False           True   \n",
              "3             True             True           True   \n",
              "4            False             True           True   \n",
              "\n",
              "   Sexually Transmitted Infection  MonkeyPox  \n",
              "0                           False          0  \n",
              "1                           False          1  \n",
              "2                           False          1  \n",
              "3                           False          1  \n",
              "4                           False          1  "
            ]
          },
          "execution_count": 59,
          "metadata": {},
          "output_type": "execute_result"
        }
      ],
      "source": [
        "#Encode categorical feature\n",
        "label_encoder = LabelEncoder()\n",
        "df['MonkeyPox'] = label_encoder.fit_transform(df['MonkeyPox'])\n",
        "\n",
        "df.head()"
      ]
    },
    {
      "cell_type": "code",
      "execution_count": 60,
      "metadata": {
        "colab": {
          "base_uri": "https://localhost:8080/",
          "height": 490
        },
        "id": "9vGzMhdIZgY_",
        "outputId": "bc23f5e4-9d48-4228-ce5c-44d4c41b7a29"
      },
      "outputs": [
        {
          "data": {
            "text/plain": [
              "Text(0.5, 1.0, 'MonkeyPox Porbability by Systemic Illness')"
            ]
          },
          "execution_count": 60,
          "metadata": {},
          "output_type": "execute_result"
        },
        {
          "data": {
            "image/png": "[encoded data removed]",
            "text/plain": [
              "<Figure size 640x480 with 1 Axes>"
            ]
          },
          "metadata": {},
          "output_type": "display_data"
        }
      ],
      "source": [
        "sns.barplot(x = 'Systemic Illness', y = 'MonkeyPox', data = df)\n",
        "plt.ylabel('MonkeyPox Probability')\n",
        "plt.title('MonkeyPox Porbability by Systemic Illness')"
      ]
    },
    {
      "cell_type": "code",
      "execution_count": 61,
      "metadata": {
        "id": "W-A7ObmMZoUu"
      },
      "outputs": [],
      "source": [
        "#One Hot Encoding Systemic Illness\n",
        "df = pd.get_dummies(df, columns=['Systemic Illness'], drop_first=False)"
      ]
    },
    {
      "cell_type": "code",
      "execution_count": 62,
      "metadata": {
        "colab": {
          "base_uri": "https://localhost:8080/",
          "height": 261
        },
        "id": "t-7XUEkrZpgY",
        "outputId": "4613e154-ea3e-442c-96bb-44b40254aed8"
      },
      "outputs": [
        {
          "data": {
            "text/html": [
              "<div>\n",
              "<style scoped>\n",
              "    .dataframe tbody tr th:only-of-type {\n",
              "        vertical-align: middle;\n",
              "    }\n",
              "\n",
              "    .dataframe tbody tr th {\n",
              "        vertical-align: top;\n",
              "    }\n",
              "\n",
              "    .dataframe thead th {\n",
              "        text-align: right;\n",
              "    }\n",
              "</style>\n",
              "<table border=\"1\" class=\"dataframe\">\n",
              "  <thead>\n",
              "    <tr style=\"text-align: right;\">\n",
              "      <th></th>\n",
              "      <th>Rectal Pain</th>\n",
              "      <th>Sore Throat</th>\n",
              "      <th>Penile Oedema</th>\n",
              "      <th>Oral Lesions</th>\n",
              "      <th>Solitary Lesion</th>\n",
              "      <th>Swollen Tonsils</th>\n",
              "      <th>HIV Infection</th>\n",
              "      <th>Sexually Transmitted Infection</th>\n",
              "      <th>MonkeyPox</th>\n",
              "      <th>Systemic Illness_Fever</th>\n",
              "      <th>Systemic Illness_Muscle Aches and Pain</th>\n",
              "      <th>Systemic Illness_None</th>\n",
              "      <th>Systemic Illness_Swollen Lymph Nodes</th>\n",
              "    </tr>\n",
              "  </thead>\n",
              "  <tbody>\n",
              "    <tr>\n",
              "      <th>0</th>\n",
              "      <td>False</td>\n",
              "      <td>True</td>\n",
              "      <td>True</td>\n",
              "      <td>True</td>\n",
              "      <td>False</td>\n",
              "      <td>True</td>\n",
              "      <td>False</td>\n",
              "      <td>False</td>\n",
              "      <td>0</td>\n",
              "      <td>0</td>\n",
              "      <td>0</td>\n",
              "      <td>1</td>\n",
              "      <td>0</td>\n",
              "    </tr>\n",
              "    <tr>\n",
              "      <th>1</th>\n",
              "      <td>True</td>\n",
              "      <td>False</td>\n",
              "      <td>True</td>\n",
              "      <td>True</td>\n",
              "      <td>False</td>\n",
              "      <td>False</td>\n",
              "      <td>True</td>\n",
              "      <td>False</td>\n",
              "      <td>1</td>\n",
              "      <td>1</td>\n",
              "      <td>0</td>\n",
              "      <td>0</td>\n",
              "      <td>0</td>\n",
              "    </tr>\n",
              "    <tr>\n",
              "      <th>2</th>\n",
              "      <td>False</td>\n",
              "      <td>True</td>\n",
              "      <td>True</td>\n",
              "      <td>False</td>\n",
              "      <td>False</td>\n",
              "      <td>False</td>\n",
              "      <td>True</td>\n",
              "      <td>False</td>\n",
              "      <td>1</td>\n",
              "      <td>1</td>\n",
              "      <td>0</td>\n",
              "      <td>0</td>\n",
              "      <td>0</td>\n",
              "    </tr>\n",
              "    <tr>\n",
              "      <th>3</th>\n",
              "      <td>True</td>\n",
              "      <td>False</td>\n",
              "      <td>False</td>\n",
              "      <td>False</td>\n",
              "      <td>True</td>\n",
              "      <td>True</td>\n",
              "      <td>True</td>\n",
              "      <td>False</td>\n",
              "      <td>1</td>\n",
              "      <td>0</td>\n",
              "      <td>0</td>\n",
              "      <td>1</td>\n",
              "      <td>0</td>\n",
              "    </tr>\n",
              "    <tr>\n",
              "      <th>4</th>\n",
              "      <td>True</td>\n",
              "      <td>True</td>\n",
              "      <td>True</td>\n",
              "      <td>False</td>\n",
              "      <td>False</td>\n",
              "      <td>True</td>\n",
              "      <td>True</td>\n",
              "      <td>False</td>\n",
              "      <td>1</td>\n",
              "      <td>0</td>\n",
              "      <td>0</td>\n",
              "      <td>0</td>\n",
              "      <td>1</td>\n",
              "    </tr>\n",
              "  </tbody>\n",
              "</table>\n",
              "</div>"
            ],
            "text/plain": [
              "   Rectal Pain  Sore Throat  Penile Oedema  Oral Lesions  Solitary Lesion  \\\n",
              "0        False         True           True          True            False   \n",
              "1         True        False           True          True            False   \n",
              "2        False         True           True         False            False   \n",
              "3         True        False          False         False             True   \n",
              "4         True         True           True         False            False   \n",
              "\n",
              "   Swollen Tonsils  HIV Infection  Sexually Transmitted Infection  MonkeyPox  \\\n",
              "0             True          False                           False          0   \n",
              "1            False           True                           False          1   \n",
              "2            False           True                           False          1   \n",
              "3             True           True                           False          1   \n",
              "4             True           True                           False          1   \n",
              "\n",
              "   Systemic Illness_Fever  Systemic Illness_Muscle Aches and Pain  \\\n",
              "0                       0                                       0   \n",
              "1                       1                                       0   \n",
              "2                       1                                       0   \n",
              "3                       0                                       0   \n",
              "4                       0                                       0   \n",
              "\n",
              "   Systemic Illness_None  Systemic Illness_Swollen Lymph Nodes  \n",
              "0                      1                                     0  \n",
              "1                      0                                     0  \n",
              "2                      0                                     0  \n",
              "3                      1                                     0  \n",
              "4                      0                                     1  "
            ]
          },
          "execution_count": 62,
          "metadata": {},
          "output_type": "execute_result"
        }
      ],
      "source": [
        "df.head()"
      ]
    },
    {
      "cell_type": "code",
      "execution_count": 63,
      "metadata": {
        "colab": {
          "base_uri": "https://localhost:8080/"
        },
        "id": "c7Zc5HI1Zrhi",
        "outputId": "f45aef09-a1ac-4b43-f738-4394c9627dd2"
      },
      "outputs": [
        {
          "name": "stdout",
          "output_type": "stream",
          "text": [
            "<class 'pandas.core.frame.DataFrame'>\n",
            "RangeIndex: 25000 entries, 0 to 24999\n",
            "Data columns (total 13 columns):\n",
            " #   Column                                  Non-Null Count  Dtype\n",
            "---  ------                                  --------------  -----\n",
            " 0   Rectal Pain                             25000 non-null  bool \n",
            " 1   Sore Throat                             25000 non-null  bool \n",
            " 2   Penile Oedema                           25000 non-null  bool \n",
            " 3   Oral Lesions                            25000 non-null  bool \n",
            " 4   Solitary Lesion                         25000 non-null  bool \n",
            " 5   Swollen Tonsils                         25000 non-null  bool \n",
            " 6   HIV Infection                           25000 non-null  bool \n",
            " 7   Sexually Transmitted Infection          25000 non-null  bool \n",
            " 8   MonkeyPox                               25000 non-null  int32\n",
            " 9   Systemic Illness_Fever                  25000 non-null  uint8\n",
            " 10  Systemic Illness_Muscle Aches and Pain  25000 non-null  uint8\n",
            " 11  Systemic Illness_None                   25000 non-null  uint8\n",
            " 12  Systemic Illness_Swollen Lymph Nodes    25000 non-null  uint8\n",
            "dtypes: bool(8), int32(1), uint8(4)\n",
            "memory usage: 390.8 KB\n"
          ]
        }
      ],
      "source": [
        "df.info()"
      ]
    },
    {
      "cell_type": "code",
      "execution_count": 64,
      "metadata": {
        "id": "uzJWnHkoZtDR"
      },
      "outputs": [],
      "source": [
        "#Convert bool to int\n",
        "bool_cols = df.select_dtypes(include='bool').columns\n",
        "df[bool_cols] = df[bool_cols].astype(int)"
      ]
    },
    {
      "cell_type": "code",
      "execution_count": 65,
      "metadata": {
        "colab": {
          "base_uri": "https://localhost:8080/"
        },
        "id": "XK04Z3_0ZuEP",
        "outputId": "e0fc9c86-9db1-47d8-956d-caf6db1540eb"
      },
      "outputs": [
        {
          "name": "stdout",
          "output_type": "stream",
          "text": [
            "<class 'pandas.core.frame.DataFrame'>\n",
            "RangeIndex: 25000 entries, 0 to 24999\n",
            "Data columns (total 13 columns):\n",
            " #   Column                                  Non-Null Count  Dtype\n",
            "---  ------                                  --------------  -----\n",
            " 0   Rectal Pain                             25000 non-null  int32\n",
            " 1   Sore Throat                             25000 non-null  int32\n",
            " 2   Penile Oedema                           25000 non-null  int32\n",
            " 3   Oral Lesions                            25000 non-null  int32\n",
            " 4   Solitary Lesion                         25000 non-null  int32\n",
            " 5   Swollen Tonsils                         25000 non-null  int32\n",
            " 6   HIV Infection                           25000 non-null  int32\n",
            " 7   Sexually Transmitted Infection          25000 non-null  int32\n",
            " 8   MonkeyPox                               25000 non-null  int32\n",
            " 9   Systemic Illness_Fever                  25000 non-null  uint8\n",
            " 10  Systemic Illness_Muscle Aches and Pain  25000 non-null  uint8\n",
            " 11  Systemic Illness_None                   25000 non-null  uint8\n",
            " 12  Systemic Illness_Swollen Lymph Nodes    25000 non-null  uint8\n",
            "dtypes: int32(9), uint8(4)\n",
            "memory usage: 976.7 KB\n"
          ]
        }
      ],
      "source": [
        "df.info()"
      ]
    },
    {
      "cell_type": "code",
      "execution_count": 66,
      "metadata": {
        "colab": {
          "base_uri": "https://localhost:8080/",
          "height": 478
        },
        "id": "K-1aXOjGhMRI",
        "outputId": "95366710-6317-4228-e4bb-9aa0475632ef"
      },
      "outputs": [
        {
          "data": {
            "text/html": [
              "<div>\n",
              "<style scoped>\n",
              "    .dataframe tbody tr th:only-of-type {\n",
              "        vertical-align: middle;\n",
              "    }\n",
              "\n",
              "    .dataframe tbody tr th {\n",
              "        vertical-align: top;\n",
              "    }\n",
              "\n",
              "    .dataframe thead th {\n",
              "        text-align: right;\n",
              "    }\n",
              "</style>\n",
              "<table border=\"1\" class=\"dataframe\">\n",
              "  <thead>\n",
              "    <tr style=\"text-align: right;\">\n",
              "      <th></th>\n",
              "      <th>Rectal Pain</th>\n",
              "      <th>Sore Throat</th>\n",
              "      <th>Penile Oedema</th>\n",
              "      <th>Oral Lesions</th>\n",
              "      <th>Solitary Lesion</th>\n",
              "      <th>Swollen Tonsils</th>\n",
              "      <th>HIV Infection</th>\n",
              "      <th>Sexually Transmitted Infection</th>\n",
              "      <th>MonkeyPox</th>\n",
              "      <th>Systemic Illness_Fever</th>\n",
              "      <th>Systemic Illness_Muscle Aches and Pain</th>\n",
              "      <th>Systemic Illness_None</th>\n",
              "      <th>Systemic Illness_Swollen Lymph Nodes</th>\n",
              "    </tr>\n",
              "  </thead>\n",
              "  <tbody>\n",
              "    <tr>\n",
              "      <th>0</th>\n",
              "      <td>0</td>\n",
              "      <td>1</td>\n",
              "      <td>1</td>\n",
              "      <td>1</td>\n",
              "      <td>0</td>\n",
              "      <td>1</td>\n",
              "      <td>0</td>\n",
              "      <td>0</td>\n",
              "      <td>0</td>\n",
              "      <td>0</td>\n",
              "      <td>0</td>\n",
              "      <td>1</td>\n",
              "      <td>0</td>\n",
              "    </tr>\n",
              "    <tr>\n",
              "      <th>1</th>\n",
              "      <td>1</td>\n",
              "      <td>0</td>\n",
              "      <td>1</td>\n",
              "      <td>1</td>\n",
              "      <td>0</td>\n",
              "      <td>0</td>\n",
              "      <td>1</td>\n",
              "      <td>0</td>\n",
              "      <td>1</td>\n",
              "      <td>1</td>\n",
              "      <td>0</td>\n",
              "      <td>0</td>\n",
              "      <td>0</td>\n",
              "    </tr>\n",
              "    <tr>\n",
              "      <th>2</th>\n",
              "      <td>0</td>\n",
              "      <td>1</td>\n",
              "      <td>1</td>\n",
              "      <td>0</td>\n",
              "      <td>0</td>\n",
              "      <td>0</td>\n",
              "      <td>1</td>\n",
              "      <td>0</td>\n",
              "      <td>1</td>\n",
              "      <td>1</td>\n",
              "      <td>0</td>\n",
              "      <td>0</td>\n",
              "      <td>0</td>\n",
              "    </tr>\n",
              "    <tr>\n",
              "      <th>3</th>\n",
              "      <td>1</td>\n",
              "      <td>0</td>\n",
              "      <td>0</td>\n",
              "      <td>0</td>\n",
              "      <td>1</td>\n",
              "      <td>1</td>\n",
              "      <td>1</td>\n",
              "      <td>0</td>\n",
              "      <td>1</td>\n",
              "      <td>0</td>\n",
              "      <td>0</td>\n",
              "      <td>1</td>\n",
              "      <td>0</td>\n",
              "    </tr>\n",
              "    <tr>\n",
              "      <th>4</th>\n",
              "      <td>1</td>\n",
              "      <td>1</td>\n",
              "      <td>1</td>\n",
              "      <td>0</td>\n",
              "      <td>0</td>\n",
              "      <td>1</td>\n",
              "      <td>1</td>\n",
              "      <td>0</td>\n",
              "      <td>1</td>\n",
              "      <td>0</td>\n",
              "      <td>0</td>\n",
              "      <td>0</td>\n",
              "      <td>1</td>\n",
              "    </tr>\n",
              "    <tr>\n",
              "      <th>...</th>\n",
              "      <td>...</td>\n",
              "      <td>...</td>\n",
              "      <td>...</td>\n",
              "      <td>...</td>\n",
              "      <td>...</td>\n",
              "      <td>...</td>\n",
              "      <td>...</td>\n",
              "      <td>...</td>\n",
              "      <td>...</td>\n",
              "      <td>...</td>\n",
              "      <td>...</td>\n",
              "      <td>...</td>\n",
              "      <td>...</td>\n",
              "    </tr>\n",
              "    <tr>\n",
              "      <th>24995</th>\n",
              "      <td>1</td>\n",
              "      <td>1</td>\n",
              "      <td>0</td>\n",
              "      <td>1</td>\n",
              "      <td>1</td>\n",
              "      <td>0</td>\n",
              "      <td>0</td>\n",
              "      <td>1</td>\n",
              "      <td>1</td>\n",
              "      <td>0</td>\n",
              "      <td>0</td>\n",
              "      <td>1</td>\n",
              "      <td>0</td>\n",
              "    </tr>\n",
              "    <tr>\n",
              "      <th>24996</th>\n",
              "      <td>0</td>\n",
              "      <td>1</td>\n",
              "      <td>1</td>\n",
              "      <td>0</td>\n",
              "      <td>1</td>\n",
              "      <td>1</td>\n",
              "      <td>1</td>\n",
              "      <td>1</td>\n",
              "      <td>1</td>\n",
              "      <td>1</td>\n",
              "      <td>0</td>\n",
              "      <td>0</td>\n",
              "      <td>0</td>\n",
              "    </tr>\n",
              "    <tr>\n",
              "      <th>24997</th>\n",
              "      <td>1</td>\n",
              "      <td>1</td>\n",
              "      <td>0</td>\n",
              "      <td>0</td>\n",
              "      <td>1</td>\n",
              "      <td>1</td>\n",
              "      <td>0</td>\n",
              "      <td>0</td>\n",
              "      <td>1</td>\n",
              "      <td>0</td>\n",
              "      <td>0</td>\n",
              "      <td>1</td>\n",
              "      <td>0</td>\n",
              "    </tr>\n",
              "    <tr>\n",
              "      <th>24998</th>\n",
              "      <td>0</td>\n",
              "      <td>1</td>\n",
              "      <td>0</td>\n",
              "      <td>1</td>\n",
              "      <td>1</td>\n",
              "      <td>1</td>\n",
              "      <td>0</td>\n",
              "      <td>0</td>\n",
              "      <td>0</td>\n",
              "      <td>0</td>\n",
              "      <td>0</td>\n",
              "      <td>0</td>\n",
              "      <td>1</td>\n",
              "    </tr>\n",
              "    <tr>\n",
              "      <th>24999</th>\n",
              "      <td>0</td>\n",
              "      <td>0</td>\n",
              "      <td>1</td>\n",
              "      <td>0</td>\n",
              "      <td>0</td>\n",
              "      <td>1</td>\n",
              "      <td>1</td>\n",
              "      <td>0</td>\n",
              "      <td>1</td>\n",
              "      <td>0</td>\n",
              "      <td>0</td>\n",
              "      <td>0</td>\n",
              "      <td>1</td>\n",
              "    </tr>\n",
              "  </tbody>\n",
              "</table>\n",
              "<p>25000 rows × 13 columns</p>\n",
              "</div>"
            ],
            "text/plain": [
              "       Rectal Pain  Sore Throat  Penile Oedema  Oral Lesions  Solitary Lesion  \\\n",
              "0                0            1              1             1                0   \n",
              "1                1            0              1             1                0   \n",
              "2                0            1              1             0                0   \n",
              "3                1            0              0             0                1   \n",
              "4                1            1              1             0                0   \n",
              "...            ...          ...            ...           ...              ...   \n",
              "24995            1            1              0             1                1   \n",
              "24996            0            1              1             0                1   \n",
              "24997            1            1              0             0                1   \n",
              "24998            0            1              0             1                1   \n",
              "24999            0            0              1             0                0   \n",
              "\n",
              "       Swollen Tonsils  HIV Infection  Sexually Transmitted Infection  \\\n",
              "0                    1              0                               0   \n",
              "1                    0              1                               0   \n",
              "2                    0              1                               0   \n",
              "3                    1              1                               0   \n",
              "4                    1              1                               0   \n",
              "...                ...            ...                             ...   \n",
              "24995                0              0                               1   \n",
              "24996                1              1                               1   \n",
              "24997                1              0                               0   \n",
              "24998                1              0                               0   \n",
              "24999                1              1                               0   \n",
              "\n",
              "       MonkeyPox  Systemic Illness_Fever  \\\n",
              "0              0                       0   \n",
              "1              1                       1   \n",
              "2              1                       1   \n",
              "3              1                       0   \n",
              "4              1                       0   \n",
              "...          ...                     ...   \n",
              "24995          1                       0   \n",
              "24996          1                       1   \n",
              "24997          1                       0   \n",
              "24998          0                       0   \n",
              "24999          1                       0   \n",
              "\n",
              "       Systemic Illness_Muscle Aches and Pain  Systemic Illness_None  \\\n",
              "0                                           0                      1   \n",
              "1                                           0                      0   \n",
              "2                                           0                      0   \n",
              "3                                           0                      1   \n",
              "4                                           0                      0   \n",
              "...                                       ...                    ...   \n",
              "24995                                       0                      1   \n",
              "24996                                       0                      0   \n",
              "24997                                       0                      1   \n",
              "24998                                       0                      0   \n",
              "24999                                       0                      0   \n",
              "\n",
              "       Systemic Illness_Swollen Lymph Nodes  \n",
              "0                                         0  \n",
              "1                                         0  \n",
              "2                                         0  \n",
              "3                                         0  \n",
              "4                                         1  \n",
              "...                                     ...  \n",
              "24995                                     0  \n",
              "24996                                     0  \n",
              "24997                                     0  \n",
              "24998                                     1  \n",
              "24999                                     1  \n",
              "\n",
              "[25000 rows x 13 columns]"
            ]
          },
          "execution_count": 66,
          "metadata": {},
          "output_type": "execute_result"
        }
      ],
      "source": [
        "df"
      ]
    },
    {
      "cell_type": "markdown",
      "metadata": {
        "id": "JP5zWbsjV_E2"
      },
      "source": [
        "#EDA #2"
      ]
    },
    {
      "cell_type": "code",
      "execution_count": 67,
      "metadata": {
        "colab": {
          "base_uri": "https://localhost:8080/",
          "height": 715
        },
        "id": "qdfQngPMZwPF",
        "outputId": "c22b382b-7a5f-4b79-efd8-29bf2a2735f6"
      },
      "outputs": [
        {
          "data": {
            "text/plain": [
              "<AxesSubplot:>"
            ]
          },
          "execution_count": 67,
          "metadata": {},
          "output_type": "execute_result"
        },
        {
          "data": {
            "image/png": "[encoded data removed]",
            "text/plain": [
              "<Figure size 640x480 with 2 Axes>"
            ]
          },
          "metadata": {},
          "output_type": "display_data"
        }
      ],
      "source": [
        "sns.heatmap(df[['MonkeyPox', 'HIV Infection', 'Sexually Transmitted Infection', 'Systemic Illness_Fever', 'Systemic Illness_Muscle Aches and Pain', 'Systemic Illness_Swollen Lymph Nodes']].corr(), annot = True, fmt = '.2f', cmap = 'coolwarm')"
      ]
    },
    {
      "cell_type": "code",
      "execution_count": 68,
      "metadata": {
        "colab": {
          "base_uri": "https://localhost:8080/",
          "height": 490
        },
        "id": "Gb8JbijSZx4T",
        "outputId": "1c1d404d-ec5c-40fc-809e-ea9682504fe4"
      },
      "outputs": [
        {
          "data": {
            "text/plain": [
              "Text(0.5, 1.0, 'MonkeyPox Probability by Sexually Transmitted Infection')"
            ]
          },
          "execution_count": 68,
          "metadata": {},
          "output_type": "execute_result"
        },
        {
          "data": {
            "image/png": "[encoded data removed]",
            "text/plain": [
              "<Figure size 640x480 with 1 Axes>"
            ]
          },
          "metadata": {},
          "output_type": "display_data"
        }
      ],
      "source": [
        "sns.barplot(x = 'Sexually Transmitted Infection', y = 'MonkeyPox', data = df)\n",
        "plt.ylabel('MonkeyPox Probability')\n",
        "plt.title('MonkeyPox Probability by Sexually Transmitted Infection')"
      ]
    },
    {
      "cell_type": "markdown",
      "metadata": {
        "id": "I-CFESJuQPD4"
      },
      "source": [
        "#SPLIT DATASET"
      ]
    },
    {
      "cell_type": "code",
      "execution_count": 69,
      "metadata": {
        "id": "wwe9iH1JP9st"
      },
      "outputs": [],
      "source": [
        "X = df.drop('MonkeyPox', axis = 1)\n",
        "y = df['MonkeyPox']\n",
        "\n",
        "X_train, X_test, y_train, y_test = train_test_split(X, y, test_size = 0.3, random_state = 42)"
      ]
    },
    {
      "cell_type": "code",
      "execution_count": 70,
      "metadata": {},
      "outputs": [
        {
          "name": "stdout",
          "output_type": "stream",
          "text": [
            "       Rectal Pain  Sore Throat  Penile Oedema  Oral Lesions  Solitary Lesion  \\\n",
            "0                0            1              1             1                0   \n",
            "1                1            0              1             1                0   \n",
            "2                0            1              1             0                0   \n",
            "3                1            0              0             0                1   \n",
            "4                1            1              1             0                0   \n",
            "...            ...          ...            ...           ...              ...   \n",
            "24995            1            1              0             1                1   \n",
            "24996            0            1              1             0                1   \n",
            "24997            1            1              0             0                1   \n",
            "24998            0            1              0             1                1   \n",
            "24999            0            0              1             0                0   \n",
            "\n",
            "       Swollen Tonsils  HIV Infection  Sexually Transmitted Infection  \\\n",
            "0                    1              0                               0   \n",
            "1                    0              1                               0   \n",
            "2                    0              1                               0   \n",
            "3                    1              1                               0   \n",
            "4                    1              1                               0   \n",
            "...                ...            ...                             ...   \n",
            "24995                0              0                               1   \n",
            "24996                1              1                               1   \n",
            "24997                1              0                               0   \n",
            "24998                1              0                               0   \n",
            "24999                1              1                               0   \n",
            "\n",
            "       Systemic Illness_Fever  Systemic Illness_Muscle Aches and Pain  \\\n",
            "0                           0                                       0   \n",
            "1                           1                                       0   \n",
            "2                           1                                       0   \n",
            "3                           0                                       0   \n",
            "4                           0                                       0   \n",
            "...                       ...                                     ...   \n",
            "24995                       0                                       0   \n",
            "24996                       1                                       0   \n",
            "24997                       0                                       0   \n",
            "24998                       0                                       0   \n",
            "24999                       0                                       0   \n",
            "\n",
            "       Systemic Illness_None  Systemic Illness_Swollen Lymph Nodes  \n",
            "0                          1                                     0  \n",
            "1                          0                                     0  \n",
            "2                          0                                     0  \n",
            "3                          1                                     0  \n",
            "4                          0                                     1  \n",
            "...                      ...                                   ...  \n",
            "24995                      1                                     0  \n",
            "24996                      0                                     0  \n",
            "24997                      1                                     0  \n",
            "24998                      0                                     1  \n",
            "24999                      0                                     1  \n",
            "\n",
            "[25000 rows x 12 columns]\n"
          ]
        }
      ],
      "source": [
        "print(X)"
      ]
    },
    {
      "cell_type": "code",
      "execution_count": 71,
      "metadata": {
        "colab": {
          "base_uri": "https://localhost:8080/"
        },
        "id": "kBDMptkcOv9t",
        "outputId": "7e3198d1-3937-442e-e4bc-57b8607e3a8b"
      },
      "outputs": [
        {
          "name": "stdout",
          "output_type": "stream",
          "text": [
            "Training set class distribution:\n",
            " 1    11102\n",
            "0     6398\n",
            "Name: MonkeyPox, dtype: int64\n",
            "\n",
            "Test set class distribution:\n",
            " 1    4807\n",
            "0    2693\n",
            "Name: MonkeyPox, dtype: int64\n"
          ]
        }
      ],
      "source": [
        "# Check class distribution\n",
        "print(\"Training set class distribution:\\n\", y_train.value_counts())\n",
        "print(\"\\nTest set class distribution:\\n\", y_test.value_counts())"
      ]
    },
    {
      "cell_type": "code",
      "execution_count": 72,
      "metadata": {},
      "outputs": [
        {
          "name": "stdout",
          "output_type": "stream",
          "text": [
            "[[1 0 0 ... 0 1 0]\n",
            " [0 0 1 ... 0 0 1]\n",
            " [1 1 0 ... 0 1 0]\n",
            " ...\n",
            " [0 0 1 ... 0 1 0]\n",
            " [0 1 1 ... 1 0 0]\n",
            " [1 1 1 ... 0 0 1]]\n"
          ]
        }
      ],
      "source": [
        "print(X_test.values)"
      ]
    },
    {
      "cell_type": "code",
      "execution_count": 73,
      "metadata": {
        "id": "BRGAcwMJZZut"
      },
      "outputs": [],
      "source": [
        "def save_model(model, name):\n",
        "  file = open(name+'.pickle', \"wb\")\n",
        "  pkl.dump(model, file)\n",
        "  file.close()\n",
        "\n",
        "def model_evaluation(model_name, y_test, predictions):\n",
        "  accuracy = accuracy_score(y_test, predictions)\n",
        "  precision = precision_score(y_test, predictions)\n",
        "  recall = recall_score(y_test, predictions)\n",
        "  f1 = f1_score(y_test, predictions)\n",
        "  print(f\"========= {model_name.upper()} EVALUATION =========\")\n",
        "  print(\"Accuracy:\", accuracy)\n",
        "  print(\"Precision:\", precision)\n",
        "  print(\"Recall:\", recall)\n",
        "  print(\"f1_score:\", f1)\n",
        "\n",
        "  print()\n",
        "  cm = confusion_matrix(y_test, predictions)\n",
        "  cm_display = ConfusionMatrixDisplay(confusion_matrix = cm, display_labels = [False, True])\n",
        "  cm_display.plot()\n",
        "  plt.show()\n",
        "\n",
        "  # print()\n",
        "  # fpr, tpr, thresholds = roc_curve(y_test, predictions)\n",
        "  # plt.figure(figsize=(9, 6))\n",
        "  # plt.plot(fpr, tpr, label='ROC curve')\n",
        "  # plt.plot([0, 1], [0, 1], 'k--', label='Random guess')\n",
        "  # plt.xlabel('False Positive Rate')\n",
        "  # plt.ylabel('True Positive Rate')\n",
        "  # plt.title('Receiver Operating Characteristic Curve')\n",
        "  # plt.legend()\n",
        "  # plt.show()"
      ]
    },
    {
      "cell_type": "code",
      "execution_count": 74,
      "metadata": {
        "colab": {
          "base_uri": "https://localhost:8080/",
          "height": 560
        },
        "id": "97xpgPa5WLK7",
        "outputId": "df274bc9-420b-4562-e37c-130121f13754"
      },
      "outputs": [
        {
          "name": "stdout",
          "output_type": "stream",
          "text": [
            "[00:01:43] WARNING: C:\\Users\\dev-admin\\croot\\xgboost-split_1675120659361\\work\\src\\learner.cc:1115: Starting in XGBoost 1.3.0, the default evaluation metric used with the objective 'binary:logistic' was changed from 'error' to 'logloss'. Explicitly set eval_metric if you'd like to restore the old behavior.\n"
          ]
        },
        {
          "name": "stderr",
          "output_type": "stream",
          "text": [
            "c:\\Users\\wilbe\\miniconda3\\envs\\env1\\lib\\site-packages\\xgboost\\sklearn.py:1224: UserWarning: The use of label encoder in XGBClassifier is deprecated and will be removed in a future release. To remove this warning, do the following: 1) Pass option use_label_encoder=False when constructing XGBClassifier object; and 2) Encode your labels (y) as integers starting with 0, i.e. 0, 1, 2, ..., [num_class - 1].\n",
            "  warnings.warn(label_encoder_deprecation_msg, UserWarning)\n"
          ]
        },
        {
          "name": "stdout",
          "output_type": "stream",
          "text": [
            "========= XGBOOST CLASSIFIER EVALUATION =========\n",
            "Accuracy: 0.6926666666666667\n",
            "Precision: 0.7099697885196374\n",
            "Recall: 0.8799667152069898\n",
            "f1_score: 0.785880167208546\n",
            "\n"
          ]
        },
        {
          "data": {
            "image/png": "[encoded data removed]",
            "text/plain": [
              "<Figure size 640x480 with 2 Axes>"
            ]
          },
          "metadata": {},
          "output_type": "display_data"
        }
      ],
      "source": [
        "XGBOOST_MODEL = XGBClassifier()\n",
        "XGBOOST_MODEL.fit(X_train.values, y_train)\n",
        "pred = XGBOOST_MODEL.predict(X_test.values)\n",
        "model_evaluation(\"XGBOOST CLASSIFIER\", y_test, pred)\n"
      ]
    },
    {
      "cell_type": "code",
      "execution_count": 75,
      "metadata": {
        "colab": {
          "base_uri": "https://localhost:8080/",
          "height": 564
        },
        "id": "BgVw_EEut72u",
        "outputId": "bff3048e-2803-4d4d-fb46-f80a53314082"
      },
      "outputs": [
        {
          "name": "stdout",
          "output_type": "stream",
          "text": [
            "========= DECISION TREE EVALUATION =========\n",
            "Accuracy: 0.6814666666666667\n",
            "Precision: 0.7155848787446505\n",
            "Recall: 0.8348242146869149\n",
            "f1_score: 0.7706192990878541\n",
            "\n"
          ]
        },
        {
          "data": {
            "image/png": "[encoded data removed]",
            "text/plain": [
              "<Figure size 640x480 with 2 Axes>"
            ]
          },
          "metadata": {},
          "output_type": "display_data"
        }
      ],
      "source": [
        "DecisionTree = DecisionTreeClassifier()\n",
        "DecisionTree.fit(X_train, y_train)\n",
        "pred = DecisionTree.predict(X_test)\n",
        "model_evaluation(\"Decision Tree\", y_test, pred)"
      ]
    },
    {
      "cell_type": "code",
      "execution_count": 76,
      "metadata": {
        "colab": {
          "base_uri": "https://localhost:8080/",
          "height": 560
        },
        "id": "1i5o5p2klTno",
        "outputId": "4ccdf313-3175-4f0f-9da6-e59d6874a7c1"
      },
      "outputs": [
        {
          "name": "stdout",
          "output_type": "stream",
          "text": [
            "========= RANDOM FOREST EVALUATION =========\n",
            "Accuracy: 0.6834666666666667\n",
            "Precision: 0.7127120125896136\n",
            "Recall: 0.8479301019346785\n",
            "f1_score: 0.7744632338970169\n",
            "\n"
          ]
        },
        {
          "data": {
            "image/png": "[encoded data removed]",
            "text/plain": [
              "<Figure size 640x480 with 2 Axes>"
            ]
          },
          "metadata": {},
          "output_type": "display_data"
        }
      ],
      "source": [
        "RandomForest = RandomForestClassifier(n_estimators= 1000, random_state=42)\n",
        "RandomForest.fit(X_train, y_train)\n",
        "pred = RandomForest.predict(X_test)\n",
        "model_evaluation(\"Random Forest\", y_test, pred)"
      ]
    },
    {
      "cell_type": "code",
      "execution_count": 77,
      "metadata": {
        "colab": {
          "base_uri": "https://localhost:8080/",
          "height": 560
        },
        "id": "cUwD1uJAoaLC",
        "outputId": "c25e558a-ae28-444a-cc70-68879a947f59"
      },
      "outputs": [
        {
          "name": "stdout",
          "output_type": "stream",
          "text": [
            "========= SVM CLASSIFIER EVALUATION =========\n",
            "Accuracy: 0.6974666666666667\n",
            "Precision: 0.7070822454308094\n",
            "Recall: 0.9013938007073019\n",
            "f1_score: 0.7925011431184271\n",
            "\n"
          ]
        },
        {
          "data": {
            "image/png": "[encoded data removed]",
            "text/plain": [
              "<Figure size 640x480 with 2 Axes>"
            ]
          },
          "metadata": {},
          "output_type": "display_data"
        }
      ],
      "source": [
        "SVM = SVC()\n",
        "SVM.fit(X_train, y_train)\n",
        "pred = SVM.predict(X_test)\n",
        "model_evaluation(\"SVM Classifier\", y_test, pred)"
      ]
    },
    {
      "cell_type": "code",
      "execution_count": 78,
      "metadata": {
        "colab": {
          "base_uri": "https://localhost:8080/",
          "height": 560
        },
        "id": "Wgaw-lVTp1GE",
        "outputId": "f6962788-6a8a-4aa3-c7f2-1ded3b5756f7"
      },
      "outputs": [
        {
          "name": "stdout",
          "output_type": "stream",
          "text": [
            "========= NAIVE BAYES EVALUATION =========\n",
            "Accuracy: 0.6704\n",
            "Precision: 0.7463599915594007\n",
            "Recall: 0.7358019554815893\n",
            "f1_score: 0.7410433689503456\n",
            "\n"
          ]
        },
        {
          "data": {
            "image/png": "[encoded data removed]",
            "text/plain": [
              "<Figure size 640x480 with 2 Axes>"
            ]
          },
          "metadata": {},
          "output_type": "display_data"
        }
      ],
      "source": [
        "NaiveBayes = GaussianNB()\n",
        "NaiveBayes.fit(X_train, y_train)\n",
        "pred = NaiveBayes.predict(X_test)\n",
        "model_evaluation(\"Naive Bayes\", y_test, pred)"
      ]
    },
    {
      "cell_type": "code",
      "execution_count": 79,
      "metadata": {
        "colab": {
          "base_uri": "https://localhost:8080/",
          "height": 560
        },
        "id": "KT__Mmo_tdRl",
        "outputId": "ae41fead-ace3-4ca7-a257-158d6f2ffcf4"
      },
      "outputs": [
        {
          "name": "stdout",
          "output_type": "stream",
          "text": [
            "========= KNN EVALUATION =========\n",
            "Accuracy: 0.6566666666666666\n",
            "Precision: 0.7019543973941368\n",
            "Recall: 0.8069482005408779\n",
            "f1_score: 0.7507984128520275\n",
            "\n"
          ]
        },
        {
          "data": {
            "image/png": "[encoded data removed]",
            "text/plain": [
              "<Figure size 640x480 with 2 Axes>"
            ]
          },
          "metadata": {},
          "output_type": "display_data"
        }
      ],
      "source": [
        "KNN = KNeighborsClassifier(n_neighbors = 7, metric = 'minkowski', p = 2)\n",
        "KNN.fit(X_train, y_train)\n",
        "pred = KNN.predict(X_test)\n",
        "model_evaluation(\"KNN\", y_test, pred)"
      ]
    },
    {
      "cell_type": "code",
      "execution_count": 80,
      "metadata": {},
      "outputs": [
        {
          "name": "stdout",
          "output_type": "stream",
          "text": [
            "========= LOGISTIC REGRESSION EVALUATION =========\n",
            "Accuracy: 0.6953333333333334\n",
            "Precision: 0.71771408839779\n",
            "Recall: 0.864780528396089\n",
            "f1_score: 0.7844136239267855\n",
            "\n"
          ]
        },
        {
          "data": {
            "image/png": "[encoded data removed]",
            "text/plain": [
              "<Figure size 640x480 with 2 Axes>"
            ]
          },
          "metadata": {},
          "output_type": "display_data"
        }
      ],
      "source": [
        "LogisticReg = LogisticRegression()\n",
        "LogisticReg.fit(X_train, y_train)\n",
        "pred = LogisticReg.predict(X_test)\n",
        "model_evaluation(\"Logistic Regression\", y_test, pred)"
      ]
    },
    {
      "cell_type": "code",
      "execution_count": 81,
      "metadata": {},
      "outputs": [],
      "source": [
        "save_model(XGBOOST_MODEL, 'XGBOOST')"
      ]
    },
    {
      "cell_type": "code",
      "execution_count": 82,
      "metadata": {},
      "outputs": [],
      "source": [
        "save_model(SVM,'SVM')"
      ]
    },
    {
      "cell_type": "code",
      "execution_count": 83,
      "metadata": {},
      "outputs": [],
      "source": [
        "save_model(NaiveBayes, 'NB')"
      ]
    }
  ],
  "metadata": {
    "colab": {
      "provenance": []
    },
    "kernelspec": {
      "display_name": "Python 3",
      "name": "python3"
    },
    "language_info": {
      "codemirror_mode": {
        "name": "ipython",
        "version": 3
      },
      "file_extension": ".py",
      "mimetype": "text/x-python",
      "name": "python",
      "nbconvert_exporter": "python",
      "pygments_lexer": "ipython3",
      "version": "3.7.1"
    }
  },
  "nbformat": 4,
  "nbformat_minor": 0
}
